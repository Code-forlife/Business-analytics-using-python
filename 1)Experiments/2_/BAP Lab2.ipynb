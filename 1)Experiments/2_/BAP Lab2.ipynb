{
 "cells": [
  {
   "cell_type": "markdown",
   "metadata": {},
   "source": [
    "# Experiment 2"
   ]
  },
  {
   "cell_type": "markdown",
   "metadata": {},
   "source": [
    "<table style=\"width:75%\">\n",
    "    <tr>\n",
    "        <td>Name</td>\n",
    "        <td>Pranay Singhvi</td>\n",
    "    </tr>\n",
    "    <tr>\n",
    "        <td>UID</td>\n",
    "        <td>2021300126</td>\n",
    "    </tr>\n",
    "</table>\n"
   ]
  },
  {
   "cell_type": "code",
   "execution_count": null,
   "metadata": {},
   "outputs": [],
   "source": []
  }
 ],
 "metadata": {
  "language_info": {
   "name": "python"
  }
 },
 "nbformat": 4,
 "nbformat_minor": 2
}
