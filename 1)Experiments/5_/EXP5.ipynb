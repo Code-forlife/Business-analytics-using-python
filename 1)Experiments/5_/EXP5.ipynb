{
 "cells": [
  {
   "cell_type": "markdown",
   "metadata": {},
   "source": [
    "<CENTER style=\"font-size:40px;\">Experiment 5</CENTER>"
   ]
  },
  {
   "cell_type": "markdown",
   "metadata": {},
   "source": [
    "<style type=\"text/css\">\n",
    ".tg  {border-collapse:collapse;border-spacing:0;width:100%}\n",
    ".tg td{border-color:black;border-style:solid;border-width:1px;font-family:Arial, sans-serif;font-size:16px;\n",
    "  overflow:hidden;padding:10px 10px;word-break:normal;}\n",
    ".tg th{border-color:black;border-style:solid;border-width:1px;font-family:Arial, sans-serif;font-size:16px;\n",
    "  font-weight:normal;overflow:hidden;padding:10px 10px;word-break:normal;}\n",
    ".tg .tg-0pky{border-color:inherit;text-align:left;vertical-align:top;}\n",
    ".col1 { width: 20%;}\n",
    ".col2 { width: 80%;}\n",
    "</style>\n",
    "<table style=\"width: 100%;\">\n",
    "  <tr>\n",
    "    <td>Name</td>\n",
    "    <td>Pranay Singhvi</td>\n",
    "  </tr>\n",
    "  <tr>\n",
    "    <td>UID</td>\n",
    "    <td>2021300126</td>\n",
    "  </tr>\n",
    "</table>\n"
   ]
  },
  {
   "cell_type": "markdown",
   "metadata": {},
   "source": [
    "<style type=\"text/css\">\n",
    ".tg  {border-collapse:collapse;border-spacing:0;width:100%}\n",
    ".tg td{border-color:black;border-style:solid;border-width:1px;font-family:Arial, sans-serif;font-size:16px;\n",
    "  overflow:hidden;padding:10px 10px;word-break:normal;}\n",
    ".tg th{border-color:black;border-style:solid;border-width:1px;font-family:Arial, sans-serif;font-size:16px;\n",
    "  font-weight:normal;overflow:hidden;padding:10px 10px;word-break:normal;}\n",
    ".tg .tg-0pky{border-color:inherit;text-align:left;vertical-align:top;}\n",
    ".col1 { width: 20%;}\n",
    ".col2 { width: 80%;}\n",
    "</style>\n",
    "<table class=\"tg\">\n",
    "<thead>\n",
    "  <tr>\n",
    "    <th class=\"tg-0pky col1\">HONOR PLEDGE</th>\n",
    "    <th class=\"tg-0pky col2\">\n",
    "        <img src=\"../1_/Honour.jpeg\" alt=\"honor pledge\">\n",
    "    </th>\n",
    "  </tr>\n",
    "</thead>\n",
    "<tbody>\n",
    "  <tr>\n",
    "    <td class=\"tg-0pky col1\">PROBLEM STATEMENT</td>\n",
    "    <td class=\"tg-0pky col2\" style=\"font-size:16px;\">\n",
    "      <strong>Data Quality Assurance :</strong>\n",
    "      Answer the following question first:\n",
    "      <br>\n",
    "What are the 6 core dimensions of data quality? Elaborate on each with an example. Is there any other dimension that you can think of apart from these 6 for measuring quality?\n",
    "<br>\n",
    "● Pick a time-series dataset from either of these websites based on batch majority:\n",
    "1) https://data.gov.in\n",
    "2) https://data.oecd.org\n",
    "3) Kaggle\n",
    "<br>\n",
    "● Assess the quality of this dataset on all the dimensions of quality as identified by you.\n",
    "<br>\n",
    "● Identify and handle inconsistent or erroneous data\n",
    "<br>\n",
    "● Calculate data quality metrics for each data quality dimension for your dataset\n",
    "    </td>\n",
    "  </tr>\n",
    "  <tr>\n",
    "    <td class=\"tg-0pky col1\">THEORY</td>\n",
    "    <td class=\"tg-0pky col2\">\n",
    "    <strong>Resampling Time Series</strong>\n",
    "<ul>\n",
    "  <li><b>Purpose</b>: Resampling changes the granularity of a time series. You might resample to analyze trends at a lower level (e.g., hourly data to daily trends) or aggregate to a higher level (e.g., daily to monthly performance).</li>\n",
    "  <li><b>Upsampling</b>: Increasing the frequency of data (e.g., daily to hourly). Techniques include:\n",
    "    <ul>\n",
    "    <li> <b>Forward Fill (FFill)</b>: Propagates the last valid observation forward to fill in missing values. Useful when changes between points are expected to be minimal.</li>\n",
    "    <li><b>Interpolation</b>: Estimates missing values using existing data points (e.g., linear interpolation). This is more complex but generally smoother than FFill.</li>\n",
    "    </ul>\n",
    "  </li>\n",
    "  <li><b>Downsampling</b>: Decreasing the frequency of data (e.g., hourly to daily). Techniques include:\n",
    "    <ul>\n",
    "    <li> <b>Aggregation</b>: Calculate summary statistics (average, sum, max, min) within each new time window.</li>\n",
    "    <li><b>OHLC Sampling</b>: Preserves Open, High, Low, and Close values of a times series. This is mainly used in financial data analysis.</li>\n",
    "    </ul>\n",
    "  </li>\n",
    "</ul>\n",
    "\n",
    "\n",
    "\n",
    "\n",
    "\n",
    "\n",
    "\n",
    "<strong>Shifting Time Series</strong>\n",
    "<ul>\n",
    "<li><b>Purpose</b>: Shifting is crucial for creating lagged features. Lagged features allow you to incorporate historical trends into forecasting and models.</li>\n",
    "<li><b>Naive Shift</b>: Simple shifting by a defined number of periods. For example, shifting by one period in a daily time series aligns today's data point with yesterday's.</li>\n",
    "<li><b>Shifting Using Frequency</b>: Leverages the underlying frequency of your time series for more precise shifts. You might shift data forward by two months if working with monthly data.</li>\n",
    "</ul>\n",
    "<strong>Moving Averages and Rolling Sums</strong>\n",
    "<ul>\n",
    "<li><b>Purpose</b>: Smoothing time series to reduce noise and reveal underlying trends. These techniques give you insights into trend direction and momentum.</li>\n",
    "<li><b>Moving Averages (MA)</b>:</li>\n",
    "<ul>\n",
    "<li><b>Simple Moving Average (SMA)</b>: Averages a fixed number of past data points, giving them equal weight. As time progresses, the calculation window 'moves' through the data.</li>\n",
    "<li><b>Weighted Moving Average (WMA)</b>: Allows for greater weighting of more recent data points, which emphasizes current trends.</li>\n",
    "<li><b>Exponential Moving Average (EMA)</b>: Applies exponential weighting that decreases over time. This allows EMAs to react more quickly to recent changes in the data.</li>\n",
    "</ul>\n",
    "<li><b>Rolling Sums</b>: Calculated over a specified window, providing the cumulative sum of values within that window. For example, a 30-day rolling sum displays the total over the past 30 days.</li>\n",
    "</ul>\n",
    "    </td>\n",
    "  </tr>\n",
    "</tbody>\n",
    "</table> "
   ]
  },
  {
   "cell_type": "markdown",
   "metadata": {},
   "source": [
    "### 1.Import Library"
   ]
  },
  {
   "cell_type": "code",
   "execution_count": 49,
   "metadata": {},
   "outputs": [],
   "source": [
    "import pandas as pd\n",
    "from datetime import datetime\n",
    "import numpy as np"
   ]
  },
  {
   "cell_type": "code",
   "execution_count": 3,
   "metadata": {},
   "outputs": [
    {
     "name": "stderr",
     "output_type": "stream",
     "text": [
      "/var/folders/fc/b_3ntmtx3kv_43ckpdzjd47r0000gn/T/ipykernel_27294/3349952028.py:1: DtypeWarning: Columns (5) have mixed types. Specify dtype option on import or set low_memory=False.\n",
      "  df = pd.read_csv('Flight_Schedule.csv')\n"
     ]
    }
   ],
   "source": [
    "df = pd.read_csv('Flight_Schedule.csv')"
   ]
  },
  {
   "cell_type": "code",
   "execution_count": 4,
   "metadata": {},
   "outputs": [
    {
     "data": {
      "text/html": [
       "<div>\n",
       "<style scoped>\n",
       "    .dataframe tbody tr th:only-of-type {\n",
       "        vertical-align: middle;\n",
       "    }\n",
       "\n",
       "    .dataframe tbody tr th {\n",
       "        vertical-align: top;\n",
       "    }\n",
       "\n",
       "    .dataframe thead th {\n",
       "        text-align: right;\n",
       "    }\n",
       "</style>\n",
       "<table border=\"1\" class=\"dataframe\">\n",
       "  <thead>\n",
       "    <tr style=\"text-align: right;\">\n",
       "      <th></th>\n",
       "      <th>airline</th>\n",
       "      <th>flightNumber</th>\n",
       "      <th>origin</th>\n",
       "      <th>destination</th>\n",
       "      <th>daysOfWeek</th>\n",
       "      <th>scheduledDepartureTime</th>\n",
       "      <th>scheduledArrivalTime</th>\n",
       "      <th>timezone</th>\n",
       "      <th>validFrom</th>\n",
       "      <th>validTo</th>\n",
       "      <th>lastUpdated</th>\n",
       "    </tr>\n",
       "  </thead>\n",
       "  <tbody>\n",
       "    <tr>\n",
       "      <th>0</th>\n",
       "      <td>GoAir</td>\n",
       "      <td>425</td>\n",
       "      <td>Delhi</td>\n",
       "      <td>Hyderabad</td>\n",
       "      <td>Sunday,Monday,Tuesday,Wednesday,Thursday,Frida...</td>\n",
       "      <td>05:45</td>\n",
       "      <td>NaN</td>\n",
       "      <td>2019-03-30</td>\n",
       "      <td>2018-10-28</td>\n",
       "      <td>2019-03-30</td>\n",
       "      <td>2023-11-05</td>\n",
       "    </tr>\n",
       "    <tr>\n",
       "      <th>1</th>\n",
       "      <td>GoAir</td>\n",
       "      <td>423</td>\n",
       "      <td>Delhi</td>\n",
       "      <td>Hyderabad</td>\n",
       "      <td>Saturday</td>\n",
       "      <td>07:30</td>\n",
       "      <td>NaN</td>\n",
       "      <td>2018-10-28</td>\n",
       "      <td>2018-10-28</td>\n",
       "      <td>2018-10-28</td>\n",
       "      <td>2023-11-05</td>\n",
       "    </tr>\n",
       "    <tr>\n",
       "      <th>2</th>\n",
       "      <td>GoAir</td>\n",
       "      <td>423</td>\n",
       "      <td>Delhi</td>\n",
       "      <td>Hyderabad</td>\n",
       "      <td>Friday</td>\n",
       "      <td>07:30</td>\n",
       "      <td>NaN</td>\n",
       "      <td>2018-12-01</td>\n",
       "      <td>2018-11-03</td>\n",
       "      <td>2018-12-01</td>\n",
       "      <td>2023-11-05</td>\n",
       "    </tr>\n",
       "    <tr>\n",
       "      <th>3</th>\n",
       "      <td>GoAir</td>\n",
       "      <td>423</td>\n",
       "      <td>Delhi</td>\n",
       "      <td>Hyderabad</td>\n",
       "      <td>Friday</td>\n",
       "      <td>07:30</td>\n",
       "      <td>NaN</td>\n",
       "      <td>2019-03-30</td>\n",
       "      <td>2019-02-02</td>\n",
       "      <td>2019-03-30</td>\n",
       "      <td>2023-11-05</td>\n",
       "    </tr>\n",
       "    <tr>\n",
       "      <th>4</th>\n",
       "      <td>GoAir</td>\n",
       "      <td>423</td>\n",
       "      <td>Delhi</td>\n",
       "      <td>Hyderabad</td>\n",
       "      <td>Sunday,Monday,Tuesday,Wednesday,Thursday,Saturday</td>\n",
       "      <td>07:30</td>\n",
       "      <td>NaN</td>\n",
       "      <td>2018-11-30</td>\n",
       "      <td>2018-10-29</td>\n",
       "      <td>2018-11-30</td>\n",
       "      <td>2023-11-05</td>\n",
       "    </tr>\n",
       "    <tr>\n",
       "      <th>...</th>\n",
       "      <td>...</td>\n",
       "      <td>...</td>\n",
       "      <td>...</td>\n",
       "      <td>...</td>\n",
       "      <td>...</td>\n",
       "      <td>...</td>\n",
       "      <td>...</td>\n",
       "      <td>...</td>\n",
       "      <td>...</td>\n",
       "      <td>...</td>\n",
       "      <td>...</td>\n",
       "    </tr>\n",
       "    <tr>\n",
       "      <th>88977</th>\n",
       "      <td>SpiceJet</td>\n",
       "      <td>2923</td>\n",
       "      <td>Hyderabad</td>\n",
       "      <td>Shirdi Airport</td>\n",
       "      <td>Sunday,Tuesday,Thursday,Saturday</td>\n",
       "      <td>NaN</td>\n",
       "      <td>16:35</td>\n",
       "      <td>2023-10-28</td>\n",
       "      <td>2023-03-26</td>\n",
       "      <td>2023-10-28</td>\n",
       "      <td>2023-11-05</td>\n",
       "    </tr>\n",
       "    <tr>\n",
       "      <th>88978</th>\n",
       "      <td>SpiceJet</td>\n",
       "      <td>2923</td>\n",
       "      <td>Tirupati</td>\n",
       "      <td>Shirdi Airport</td>\n",
       "      <td>Monday,Wednesday,Friday</td>\n",
       "      <td>NaN</td>\n",
       "      <td>16:50</td>\n",
       "      <td>2023-10-28</td>\n",
       "      <td>2023-03-26</td>\n",
       "      <td>2023-10-28</td>\n",
       "      <td>2023-11-05</td>\n",
       "    </tr>\n",
       "    <tr>\n",
       "      <th>88979</th>\n",
       "      <td>SpiceJet</td>\n",
       "      <td>0329</td>\n",
       "      <td>Chennai</td>\n",
       "      <td>Shirdi Airport</td>\n",
       "      <td>Sunday,Monday,Tuesday,Wednesday,Thursday,Frida...</td>\n",
       "      <td>NaN</td>\n",
       "      <td>16:20</td>\n",
       "      <td>2023-10-28</td>\n",
       "      <td>2023-03-26</td>\n",
       "      <td>2023-10-28</td>\n",
       "      <td>2023-11-05</td>\n",
       "    </tr>\n",
       "    <tr>\n",
       "      <th>88980</th>\n",
       "      <td>SpiceJet</td>\n",
       "      <td>2950</td>\n",
       "      <td>Delhi</td>\n",
       "      <td>Kangra</td>\n",
       "      <td>Sunday,Monday,Tuesday,Wednesday,Thursday,Frida...</td>\n",
       "      <td>NaN</td>\n",
       "      <td>07:30</td>\n",
       "      <td>2023-10-28</td>\n",
       "      <td>2023-03-26</td>\n",
       "      <td>2023-10-28</td>\n",
       "      <td>2023-11-05</td>\n",
       "    </tr>\n",
       "    <tr>\n",
       "      <th>88981</th>\n",
       "      <td>SpiceJet</td>\n",
       "      <td>2345</td>\n",
       "      <td>Delhi</td>\n",
       "      <td>Kangra</td>\n",
       "      <td>Sunday,Monday,Tuesday,Wednesday,Thursday,Frida...</td>\n",
       "      <td>NaN</td>\n",
       "      <td>10:00</td>\n",
       "      <td>2023-10-28</td>\n",
       "      <td>2023-03-26</td>\n",
       "      <td>2023-10-28</td>\n",
       "      <td>2023-11-05</td>\n",
       "    </tr>\n",
       "  </tbody>\n",
       "</table>\n",
       "<p>88982 rows × 11 columns</p>\n",
       "</div>"
      ],
      "text/plain": [
       "        airline flightNumber     origin     destination  \\\n",
       "0         GoAir          425      Delhi       Hyderabad   \n",
       "1         GoAir          423      Delhi       Hyderabad   \n",
       "2         GoAir          423      Delhi       Hyderabad   \n",
       "3         GoAir          423      Delhi       Hyderabad   \n",
       "4         GoAir          423      Delhi       Hyderabad   \n",
       "...         ...          ...        ...             ...   \n",
       "88977  SpiceJet         2923  Hyderabad  Shirdi Airport   \n",
       "88978  SpiceJet         2923   Tirupati  Shirdi Airport   \n",
       "88979  SpiceJet         0329    Chennai  Shirdi Airport   \n",
       "88980  SpiceJet         2950      Delhi          Kangra   \n",
       "88981  SpiceJet         2345      Delhi          Kangra   \n",
       "\n",
       "                                              daysOfWeek  \\\n",
       "0      Sunday,Monday,Tuesday,Wednesday,Thursday,Frida...   \n",
       "1                                               Saturday   \n",
       "2                                                 Friday   \n",
       "3                                                 Friday   \n",
       "4      Sunday,Monday,Tuesday,Wednesday,Thursday,Saturday   \n",
       "...                                                  ...   \n",
       "88977                   Sunday,Tuesday,Thursday,Saturday   \n",
       "88978                            Monday,Wednesday,Friday   \n",
       "88979  Sunday,Monday,Tuesday,Wednesday,Thursday,Frida...   \n",
       "88980  Sunday,Monday,Tuesday,Wednesday,Thursday,Frida...   \n",
       "88981  Sunday,Monday,Tuesday,Wednesday,Thursday,Frida...   \n",
       "\n",
       "      scheduledDepartureTime scheduledArrivalTime    timezone   validFrom  \\\n",
       "0                      05:45                  NaN  2019-03-30  2018-10-28   \n",
       "1                      07:30                  NaN  2018-10-28  2018-10-28   \n",
       "2                      07:30                  NaN  2018-12-01  2018-11-03   \n",
       "3                      07:30                  NaN  2019-03-30  2019-02-02   \n",
       "4                      07:30                  NaN  2018-11-30  2018-10-29   \n",
       "...                      ...                  ...         ...         ...   \n",
       "88977                    NaN                16:35  2023-10-28  2023-03-26   \n",
       "88978                    NaN                16:50  2023-10-28  2023-03-26   \n",
       "88979                    NaN                16:20  2023-10-28  2023-03-26   \n",
       "88980                    NaN                07:30  2023-10-28  2023-03-26   \n",
       "88981                    NaN                10:00  2023-10-28  2023-03-26   \n",
       "\n",
       "          validTo lastUpdated  \n",
       "0      2019-03-30  2023-11-05  \n",
       "1      2018-10-28  2023-11-05  \n",
       "2      2018-12-01  2023-11-05  \n",
       "3      2019-03-30  2023-11-05  \n",
       "4      2018-11-30  2023-11-05  \n",
       "...           ...         ...  \n",
       "88977  2023-10-28  2023-11-05  \n",
       "88978  2023-10-28  2023-11-05  \n",
       "88979  2023-10-28  2023-11-05  \n",
       "88980  2023-10-28  2023-11-05  \n",
       "88981  2023-10-28  2023-11-05  \n",
       "\n",
       "[88982 rows x 11 columns]"
      ]
     },
     "execution_count": 4,
     "metadata": {},
     "output_type": "execute_result"
    }
   ],
   "source": [
    "df\n"
   ]
  },
  {
   "cell_type": "code",
   "execution_count": 7,
   "metadata": {},
   "outputs": [
    {
     "data": {
      "text/plain": [
       "airline                     675\n",
       "flightNumber                323\n",
       "origin                      500\n",
       "destination                 547\n",
       "daysOfWeek                    1\n",
       "scheduledDepartureTime    30686\n",
       "scheduledArrivalTime      30968\n",
       "timezone                      0\n",
       "validFrom                     0\n",
       "validTo                       0\n",
       "lastUpdated                   0\n",
       "dtype: int64"
      ]
     },
     "execution_count": 7,
     "metadata": {},
     "output_type": "execute_result"
    }
   ],
   "source": [
    "df.isnull().sum()"
   ]
  },
  {
   "cell_type": "code",
   "execution_count": 11,
   "metadata": {},
   "outputs": [],
   "source": [
    "def check_accuracy(df):\n",
    "    # Check if categorical columns have accurate and valid values\n",
    "    valid_airlines = ['GoAir', 'Air India', 'AirAsia India', 'Jet Airways','Alliance Air (India)', 'Jetlite', 'Vistara', 'IndiGo', 'TruJet', 'SpiceJet', 'FlyBig', 'Star Air', 'Akasa Air', 'IndiaOne Air']# Add valid airline names if needed\n",
    "    valid_origins = ['Delhi', 'Lucknow', 'Kochi', 'Ahmedabad', 'Jaipur', 'Bengaluru',\n",
    "       'Guwahati', 'Goa', 'Kolkata', 'Hyderabad', 'Nagpur', 'Bagdogra',\n",
    "       'MIHAN', 'Mumbai', 'Leh', 'Patna', 'Ranchi', 'Pune', 'Jammu',\n",
    "       'Srinagar', 'Chennai', 'Bhubaneswar', 'Port Blair', 'Chandigarh',\n",
    "       'Visakhapatnam', 'Vijayawada', 'Tirupati', 'Varanasi',\n",
    "       'Aurangabad', 'Rajkot', 'Amritsar', 'Imphal', 'Jodhpur', 'Indore',\n",
    "       'Vadodara', 'Raipur', 'Udaipur', 'Surat', 'Bhopal', 'Gaya',\n",
    "       'Khajuraho', 'Thiruvananthapuram', 'Mangalore', 'Calicut', 'Hubli',\n",
    "       'Coimbatore', 'Jamnagar', 'Nanded', 'Aizwal', 'Dibrugarh',\n",
    "       'Madurai', 'Agra', 'Dimapur', 'Silchar', 'Agartala', 'Nasik',\n",
    "       'Dehradun', 'Allahabad', 'Jorhat', 'Tiruchirappalli',\n",
    "       'Kolhapur', 'Shirdi Airport', 'Kullu', 'Gorakhpur', 'Ludhiana',\n",
    "       'Shimla', 'Gwalior', 'Pantnagar', 'Bikaner', 'Bathinda',\n",
    "       'Jabalpur', 'Pathankot', 'Kangra', 'Agatti', 'Diu', 'Bhavnagar',\n",
    "       'Kandla', 'Belgaum', 'Lilabari', 'Tezpur', 'Passighat', 'Shillong',\n",
    "       'Rajahmundry', 'Tuticorin', 'Vidyanagar', 'Jalgaon', 'Keshod',\n",
    "       'Porbandar', 'Salem', 'Mysore', 'Pondicherry', 'Adampur',\n",
    "       'Jaisalmer', 'Kanpur', 'Kishangarh', 'Pakyong', 'Tezu',\n",
    "       'Kannur International Airport', 'Bhuj', 'Kadapa', 'Jharsuguda',\n",
    "       'Pithoragarh', 'Kalaburgi (Gulbarga)', 'Bidar', 'Thoise', 'Rupsi',\n",
    "       'Durgapur', 'Darbhanga', 'Bilaspur', 'Mundra', 'Hindon Airport',\n",
    "       'Cooch-Behar']  # Add valid origin locations if needed\n",
    "    valid_destinations = ['Hyderabad', 'Delhi', 'Varanasi', 'Bhubaneswar', 'Nagpur',\n",
    "       'Bagdogra', 'MIHAN', 'Lucknow', 'Kochi', 'Mumbai', 'Leh', 'Patna',\n",
    "       'Port Blair', 'Kannur International Airport', 'Ahmedabad',\n",
    "       'Jaipur', 'Bengaluru', 'Ranchi', 'Chandigarh', 'Pune', 'Guwahati',\n",
    "       'Chennai', 'Jammu', 'Goa', 'Kolkata', 'Srinagar',\n",
    "       'Thiruvananthapuram', 'Mangalore', 'Calicut', 'Aurangabad',\n",
    "       'Madurai', 'Rajkot', 'Gaya', 'Dimapur', 'Visakhapatnam',\n",
    "       'Amritsar', 'Imphal', 'Agra', 'Jodhpur', 'Vijayawada', 'Indore',\n",
    "       'Vadodara', 'Silchar', 'Raipur', 'Udaipur', 'Tirupati', 'Belgaum',\n",
    "       'Hubli', 'Aizwal', 'Surat', 'Coimbatore', 'Khajuraho', 'Bhopal',\n",
    "       'Dibrugarh', 'Agartala', 'Nanded', 'Jamnagar', 'Nasik',\n",
    "       'Dehradun', 'Bhuj', 'Allahabad', 'Jorhat', 'Tiruchirappalli',\n",
    "       'Thoise', 'Shirdi Airport', 'Kandla', 'Kullu', 'Passighat',\n",
    "       'Shillong', 'Kolhapur', 'Rajahmundry', 'Diu', 'Gorakhpur',\n",
    "       'Ludhiana', 'Shimla', 'Gwalior', 'Pantnagar', 'Agatti', 'Lilabari',\n",
    "       'Tezpur', 'Bikaner', 'Bathinda', 'Jabalpur', 'Pathankot',\n",
    "       'Bhavnagar', 'Kangra', 'Tuticorin', 'Kadapa', 'Salem', 'Jaisalmer',\n",
    "       'Vidyanagar', 'Adampur', 'Pondicherry', 'Kanpur', 'Kishangarh',\n",
    "       'Pakyong', 'Jalgaon', 'Mundra', 'Tezu', 'Jharsuguda', 'Mysore',\n",
    "       'Darbhanga', 'Pithoragarh', 'Kalaburgi (Gulbarga)', 'Keshod',\n",
    "       'Bidar', 'Hindon Airport', 'Rupsi', 'Bilaspur', 'Cooch-Behar',\n",
    "       'Porbandar', 'Durgapur']  # Add valid destination locations if needed\n",
    "\n",
    "    accuracy_checks = (\n",
    "        df['airline'].isin(valid_airlines) &\n",
    "        df['origin'].isin(valid_origins) &\n",
    "        df['destination'].isin(valid_destinations)\n",
    "    )\n",
    "\n",
    "    return accuracy_checks"
   ]
  },
  {
   "cell_type": "code",
   "execution_count": 10,
   "metadata": {},
   "outputs": [
    {
     "data": {
      "text/plain": [
       "array(['Hyderabad', 'Delhi', 'Varanasi', 'Bhubaneswar', 'Nagpur',\n",
       "       'Bagdogra', 'MIHAN', 'Lucknow', 'Kochi', 'Mumbai', 'Leh', 'Patna',\n",
       "       'Port Blair', 'Kannur International Airport', 'Ahmedabad',\n",
       "       'Jaipur', 'Bengaluru', 'Ranchi', 'Chandigarh', 'Pune', 'Guwahati',\n",
       "       'Chennai', 'Jammu', 'Goa', 'Kolkata', 'Srinagar',\n",
       "       'Thiruvananthapuram', 'Mangalore', 'Calicut', 'Aurangabad',\n",
       "       'Madurai', 'Rajkot', 'Gaya', 'Dimapur', 'Visakhapatnam',\n",
       "       'Amritsar', 'Imphal', 'Agra', 'Jodhpur', 'Vijayawada', 'Indore',\n",
       "       'Vadodara', 'Silchar', 'Raipur', 'Udaipur', 'Tirupati', 'Belgaum',\n",
       "       'Hubli', 'Aizwal', 'Surat', 'Coimbatore', 'Khajuraho', 'Bhopal',\n",
       "       'Dibrugarh', 'Agartala', 'Nanded', 'Jamnagar', nan, 'Nasik',\n",
       "       'Dehradun', 'Bhuj', 'Allahabad', 'Jorhat', 'Tiruchirappalli',\n",
       "       'Thoise', 'Shirdi Airport', 'Kandla', 'Kullu', 'Passighat',\n",
       "       'Shillong', 'Kolhapur', 'Rajahmundry', 'Diu', 'Gorakhpur',\n",
       "       'Ludhiana', 'Shimla', 'Gwalior', 'Pantnagar', 'Agatti', 'Lilabari',\n",
       "       'Tezpur', 'Bikaner', 'Bathinda', 'Jabalpur', 'Pathankot',\n",
       "       'Bhavnagar', 'Kangra', 'Tuticorin', 'Kadapa', 'Salem', 'Jaisalmer',\n",
       "       'Vidyanagar', 'Adampur', 'Pondicherry', 'Kanpur', 'Kishangarh',\n",
       "       'Pakyong', 'Jalgaon', 'Mundra', 'Tezu', 'Jharsuguda', 'Mysore',\n",
       "       'Darbhanga', 'Pithoragarh', 'Kalaburgi (Gulbarga)', 'Keshod',\n",
       "       'Bidar', 'Hindon Airport', 'Rupsi', 'Bilaspur', 'Cooch-Behar',\n",
       "       'Porbandar', 'Durgapur'], dtype=object)"
      ]
     },
     "execution_count": 10,
     "metadata": {},
     "output_type": "execute_result"
    }
   ],
   "source": [
    "df[\"destination\"].unique()"
   ]
  },
  {
   "cell_type": "code",
   "execution_count": 14,
   "metadata": {},
   "outputs": [
    {
     "name": "stdout",
     "output_type": "stream",
     "text": [
      "Accuracy Percentage: 98.10%\n"
     ]
    }
   ],
   "source": [
    "# Calculate accuracy percentage\n",
    "df['accuracy'] = check_accuracy(df)\n",
    "accuracy_percentage = (df['accuracy'].sum() / len(df)) * 100\n",
    "print(f\"Accuracy Percentage: {accuracy_percentage:.2f}%\")"
   ]
  },
  {
   "cell_type": "code",
   "execution_count": 21,
   "metadata": {},
   "outputs": [],
   "source": [
    "def check_completeness(df):\n",
    "    # Check for missing values in essential columns\n",
    "    completeness_checks = ~df[['flightNumber', 'origin', 'destination', 'daysOfWeek',\n",
    "                               'scheduledDepartureTime', 'scheduledArrivalTime',\n",
    "                               'timezone', 'validFrom', 'validTo', 'lastUpdated']].isnull().any(axis=1)\n",
    "    return completeness_checks\n",
    "df['completeness'] = check_completeness(df)"
   ]
  },
  {
   "cell_type": "code",
   "execution_count": 61,
   "metadata": {},
   "outputs": [],
   "source": [
    "completeness_percentage = (df['completeness'].sum() / len(df)) * 100"
   ]
  },
  {
   "cell_type": "code",
   "execution_count": 26,
   "metadata": {},
   "outputs": [],
   "source": [
    "def check_consistency(df):\n",
    "    # Check consistency in the timezone column\n",
    "    consistency_checks = pd.to_datetime(df['timezone'], errors='coerce').notna()\n",
    "\n",
    "    # Check consistency in the daysOfWeek column\n",
    "    days_of_week_validity = ['Monday', 'Tuesday', 'Wednesday', 'Thursday', 'Friday', 'Saturday', 'Sunday']\n",
    "    consistency_checks &= df['daysOfWeek'].apply(lambda x: all(day in days_of_week_validity for day in str(x).split(',')))\n",
    "\n",
    "    return consistency_checks\n"
   ]
  },
  {
   "cell_type": "code",
   "execution_count": 27,
   "metadata": {},
   "outputs": [],
   "source": [
    "df['consistency'] = check_consistency(df)"
   ]
  },
  {
   "cell_type": "code",
   "execution_count": 34,
   "metadata": {},
   "outputs": [
    {
     "name": "stdout",
     "output_type": "stream",
     "text": [
      "99.99887617720438\n"
     ]
    }
   ],
   "source": [
    "consistency_percentage = (df['consistency'].sum() / len(df)) * 100\n",
    "print(f\"Consistency Percentage: {consistency_percentage:.2f}%\")"
   ]
  },
  {
   "cell_type": "code",
   "execution_count": 47,
   "metadata": {},
   "outputs": [],
   "source": [
    "def check_timeliness(df):\n",
    "    # Check if validFrom and validTo dates are within a reasonable time frame\n",
    "    timeliness_checks = (\n",
    "        (pd.to_datetime(df['validFrom'], errors='coerce') <= pd.to_datetime(df['validTo'], errors='coerce')) &\n",
    "        (pd.to_datetime(df['validTo'], errors='coerce') <= datetime.now())\n",
    "    )\n",
    "\n",
    "    # Check if lastUpdated date is recent\n",
    "    timeliness_checks &= (pd.to_datetime(df['lastUpdated'], errors='coerce') <= datetime.now())\n",
    "\n",
    "    return timeliness_checks"
   ]
  },
  {
   "cell_type": "code",
   "execution_count": 50,
   "metadata": {},
   "outputs": [],
   "source": [
    "df['timeliness'] = check_timeliness(df)"
   ]
  },
  {
   "cell_type": "code",
   "execution_count": 53,
   "metadata": {},
   "outputs": [
    {
     "name": "stdout",
     "output_type": "stream",
     "text": [
      "99.99887617720438\n"
     ]
    }
   ],
   "source": [
    "Timeliness_percentage = (df['timeliness'].sum() / len(df)) * 100\n",
    "print(Timeliness_percentage)"
   ]
  },
  {
   "cell_type": "code",
   "execution_count": 57,
   "metadata": {},
   "outputs": [],
   "source": [
    "def check_validity(df):\n",
    "    # Check validity of scheduledDepartureTime and scheduledArrivalTime\n",
    "    time_format = '%H:%M'\n",
    "    validity_checks = (\n",
    "        pd.to_datetime(df['scheduledDepartureTime'], format=time_format, errors='coerce').notna() &\n",
    "        pd.to_datetime(df['scheduledArrivalTime'], format=time_format, errors='coerce').notna()\n",
    "    )\n",
    "\n",
    "    # Check validity of daysOfWeek\n",
    "    days_of_week_validity = ['Monday', 'Tuesday', 'Wednesday', 'Thursday', 'Friday', 'Saturday', 'Sunday']\n",
    "    validity_checks &= df['daysOfWeek'].apply(lambda x: all(day in days_of_week_validity for day in str(x).split(',')))\n",
    "\n",
    "    return validity_checks"
   ]
  },
  {
   "cell_type": "code",
   "execution_count": 58,
   "metadata": {},
   "outputs": [],
   "source": [
    "df['validity'] = check_validity(df)\n",
    "Validity_percentage = (df['validity'].sum() / len(df)) * 100"
   ]
  },
  {
   "cell_type": "code",
   "execution_count": 60,
   "metadata": {},
   "outputs": [
    {
     "name": "stdout",
     "output_type": "stream",
     "text": [
      "Reliability Percentage: 91.89%\n"
     ]
    }
   ],
   "source": [
    "def check_reliability(df):\n",
    "    # Check reliability by examining consistency of data for the same flight\n",
    "    reliability_checks = df.duplicated(subset=['flightNumber', 'origin', 'destination'], keep=False)\n",
    "\n",
    "    # Calculate the percentage of reliability\n",
    "    reliability_percentage = (reliability_checks.sum() / len(df)) * 100\n",
    "\n",
    "    return reliability_percentage\n",
    "\n",
    "# Assuming df is your DataFrame\n",
    "reliability_percentage = check_reliability(df)\n",
    "print(f\"Reliability Percentage: {reliability_percentage:.2f}%\")"
   ]
  },
  {
   "cell_type": "code",
   "execution_count": 62,
   "metadata": {},
   "outputs": [
    {
     "name": "stdout",
     "output_type": "stream",
     "text": [
      "Reliability Percentage: 91.89%\n",
      "Consistency Percentage: 100.00%\n",
      "Accuracy Percentage: 98.10%\n",
      "Timeliness Percentage: 100.00%\n",
      "Completness Percentage: 30.57%\n",
      "Validity Percentage: 30.71%\n"
     ]
    }
   ],
   "source": [
    "print(f\"Reliability Percentage: {reliability_percentage:.2f}%\")\n",
    "print(f\"Consistency Percentage: {consistency_percentage:.2f}%\")\n",
    "print(f\"Accuracy Percentage: {accuracy_percentage:.2f}%\")\n",
    "print(f\"Timeliness Percentage: {Timeliness_percentage:.2f}%\")\n",
    "print(f\"Completness Percentage: {completeness_percentage:.2f}%\")\n",
    "print(f\"Validity Percentage: {Validity_percentage:.2f}%\")"
   ]
  },
  {
   "cell_type": "code",
   "execution_count": null,
   "metadata": {},
   "outputs": [],
   "source": []
  }
 ],
 "metadata": {
  "kernelspec": {
   "display_name": "ven-bap",
   "language": "python",
   "name": "python3"
  },
  "language_info": {
   "codemirror_mode": {
    "name": "ipython",
    "version": 3
   },
   "file_extension": ".py",
   "mimetype": "text/x-python",
   "name": "python",
   "nbconvert_exporter": "python",
   "pygments_lexer": "ipython3",
   "version": "3.12.1"
  }
 },
 "nbformat": 4,
 "nbformat_minor": 2
}
